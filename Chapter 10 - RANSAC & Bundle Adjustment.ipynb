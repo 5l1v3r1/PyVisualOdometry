{
 "cells": [
  {
   "cell_type": "markdown",
   "metadata": {},
   "source": [
    "# Chapter 10 - RANSAC & Bundle Adjustment\n",
    "\n",
    "In this chapter we are looking into how we can construct a robust SFM. Since when working with SFM it can often happen that features are wrongly matched. If we determine the motion from the wrongly matched features we get totally wrong solution therefore we have to filter out such outliers first.\n",
    "\n"
   ]
  },
  {
   "cell_type": "markdown",
   "metadata": {},
   "source": [
    "### Robust Estimation\n",
    "\n",
    "When matching features there are usually some outliers, meaning point correspondences which are matched wrongly. Such outliers are caused by changing view points and changes is illumination. Also image noise, occlisions or blur can cause outliers. \n",
    "\n",
    "![Matching Example](https://github.com/joelbarmettlerUZH/PyVisualOdometry/raw/master/img/chapter_10/1_matching_example.png)\n",
    "*Figure 1: Matching Example. [source](http://rpg.ifi.uzh.ch/docs/teaching/2019/08_multiple_view_geometry_2.pdf)*\n",
    "\n",
    "When working with Motion estimation such faulty estimation can cause our estimation to drift far away from the truth since all these small deviation do add up.\n",
    "\n",
    "![Outliers on Motion Estimation](https://github.com/joelbarmettlerUZH/PyVisualOdometry/raw/master/img/chapter_10/2_outliers_on_motion_estimation.png)\n",
    "*Figure 2: Outliers on Motion Estimation. [source](http://rpg.ifi.uzh.ch/docs/teaching/2019/08_multiple_view_geometry_2.pdf)*"
   ]
  },
  {
   "cell_type": "markdown",
   "metadata": {},
   "source": [
    "### RANdom SAmple Consensus (RANSAC)\n",
    "\n",
    "A solution to having many outliers is the RANSAC method which is the standard method of fitting models in presence of having outliers. Since we have a normal fitting problem this solution can be applied whenever the goal is to estimate the parameters of a model. Therefore this is not exclusive to motion estimation and can allso be applied for example to SFM, Calibration or PnP and more.\n",
    "\n",
    "The basic concept of RANSAC is that it samples randomly points and the tries to fit a model that describe these points. Then for all remaining points the error is calculated and the number of points inside e current region around our model/line are counted. Then the process is repeated. In the end we hselect the model with most points inside a certain region as the model.\n",
    "\n",
    "So here is a example in more detail. Let go through the images from left to right. Given a set of points we select two points randomly. Then We fit a model throught these points. In this example we just draw a line. Then we calculate the error of all other points to that model. In our case this is just the shortest distance from our model/line to the point. Then we select all the data that support the hypothsis of our current model. This means we select the points that are inside a certain threshold around the model.\n",
    "\n",
    "![Sampling and Fitting](https://github.com/joelbarmettlerUZH/PyVisualOdometry/raw/master/img/chapter_10/3_random_sampling.png)\n",
    "*Figure 3: Sampling and Fitting. [source](http://rpg.ifi.uzh.ch/docs/teaching/2019/08_multiple_view_geometry_2.pdf)*\n",
    "\n",
    "This process is denn repeated for many different random samples.\n",
    "\n",
    "![Repeating](https://github.com/joelbarmettlerUZH/PyVisualOdometry/raw/master/img/chapter_10/4_repeating_process.png)\n",
    "*Figure 4: Repeating. [source](http://rpg.ifi.uzh.ch/docs/teaching/2019/08_multiple_view_geometry_2.pdf)*\n",
    "\n",
    "After k iterations we select the modle that hast most datapoint inside its support region. \n",
    "\n",
    "So how can we make sure that the produced results are reliable. As seen in the example when we only iterate 3 times and each time only select 2 points for fitting the model we will no reach a meaning full result. In the example above only at the forth iteration we reach a reasonable model. So what what is the optimal amount of point to use for fitting and what it the optmal number of iterations? \n",
    "So idelly we would always select 2 points for fitting and check all possible combinations of them. This however is computationallya very expensive since then there are $N(N-1)/2$ combinations possible for $N$ points. Even with only 1000 points this leadt to 500'000 combinations. So we would like to reduce the cost by not checking all possibilites and stop the RANSAC before. We can find out the optimal number of iterations in a probabilistic way."
   ]
  },
  {
   "cell_type": "markdown",
   "metadata": {},
   "source": [
    "#### Optimal k\n",
    "\n",
    "First we have to define our prefered support range for this we have to set the inlierratio, so what ratio of all points have to be inside the support range. \n",
    "\n",
    "\\begin{align*}\n",
    "\\textrm{inlier ratio} &= \\textbf{w} := \\textrm{number of inliers}/N \\\\\n",
    "\\textrm{number of points} &= \\textbf{N}\\\\\n",
    "\\textrm{probaility of selecting inliers for both points} &= \\mathbf{w^2} := P(p_1 == \\textrm{inlier} \\land p_2 == \\textrm{inlier})\\\\\n",
    "\\textrm{probaility of selecting at least one outlier} &= \\mathbf{1-w^2} := P(p_1 == \\textrm{outlier} \\lor p_2 == \\textrm{outlier})\\\\\n",
    "\\textrm{RANSAC iteration} &= \\textbf{k}\\\\\n",
    "\\textrm{probability that RANSAC never selcted both points as inlier} &= \\mathbf{(1-w^2)^k} := (P(p_1 == \\textrm{outlier} \\lor p_2 == \\textrm{outlier}))^2\\\\\n",
    "\\textrm{probaility of success} &= \\textbf{p} := P(\\textrm{both points inlier and therefore model reasonable})\\\\\n",
    "\\textrm{probaility of failure} &= \\mathbf{1-p} := P(\\textrm{never both points intlier, none of the models reasonable})\n",
    "\\end{align*}\n",
    "\n",
    "\\begin{align*}\n",
    "&\\implies 1-p = (1-w^2)^k\\\\\n",
    "&\\implies k = \\dfrac{\\log(1-p)}{\\log(1-w^2)}\\\\\n",
    "\\end{align*}\n",
    "\n",
    "So if we know the ratio of inliers $w$ and the probaility of success $p$ we can determine the number of iterations. Usually the user can choose these two parameters and therefor can decide the probaility of success and the inlier ratio. For example if we set the probaility of success ($p$) to 99% and the inlier ration $w$ to 50% we get $k=16$ iterations. This are significanlty fewer iterations than all combinations. Also notices that this derivation does not directly depend on the total number of points. Only $w$ depends on the total number of points.\n",
    "\n",
    "Now we have derived a formula for getting the optimal number of iteration when we sample two points in each iteration. How does this change we we sample $s$ points in each iteration? Well the only thing that changes it that we don't have to take $w$ to the power of two but rather power $s$.\n",
    "\n",
    "\\begin{align*}\n",
    "&\\implies k = \\dfrac{\\log(1-p)}{\\log(1-w^\\mathbf{s})}\n",
    "\\end{align*}"
   ]
  },
  {
   "cell_type": "code",
   "execution_count": null,
   "metadata": {},
   "outputs": [],
   "source": []
  }
 ],
 "metadata": {
  "kernelspec": {
   "display_name": "Python 3",
   "language": "python",
   "name": "python3"
  },
  "language_info": {
   "codemirror_mode": {
    "name": "ipython",
    "version": 3
   },
   "file_extension": ".py",
   "mimetype": "text/x-python",
   "name": "python",
   "nbconvert_exporter": "python",
   "pygments_lexer": "ipython3",
   "version": "3.7.3"
  }
 },
 "nbformat": 4,
 "nbformat_minor": 2
}
