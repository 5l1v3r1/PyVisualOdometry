{
 "cells": [
  {
   "cell_type": "markdown",
   "metadata": {},
   "source": [
    "# Chapter 9 - Structure from Motion\n",
    "\n",
    "Structure from Motion (SFM) encompasses the application when one wants to get the 3D positions of the points in a setting where the input data is not a sequence of images (frames) but rather temporal independent images from different viewangles of the object. Usually in SFM it is possible that the images are takes by different cameras.\n",
    "\n",
    "The overal problem formulation is like the following: Given a certain amount (n) point correspondences between two images we qant to estimate the 3D position, the camera pose and motion as well as the camera intrinsics.\n",
    "\n",
    "If we work with calibrated cameras we obviously do not have to find the intrinsics K as they are already known."
   ]
  },
  {
   "cell_type": "markdown",
   "metadata": {},
   "source": [
    "## Scale Ambiguity\n",
    "\n",
    "The first challenge we encounter in SFM is that since we do not have information about the real size and dimensions of the scene we can not find the correct scale. Rescaling the entire scene by a constant factor does not change the images and therefore stays undetected.\n",
    "\n",
    "![Scale Ambiguity](https://github.com/joelbarmettlerUZH/PyVisualOdometry/raw/master/img/chapter_9/1_scale_ambiguity.png)\n",
    "*Figure 1: Scale Ambiguity. [source](http://rpg.ifi.uzh.ch/docs/teaching/2019/08_multiple_view_geometry_2.pdf)*\n",
    "\n",
    "As a result in monocular vision it is impossible to recover the absoculte scale. However in stereo vision it is possible under certain circumstances. This is becasue in stereo vision we have only 5 degrees of freedom, 3 perameters for the rotation and 2 for translation. For translation we only know the direction but not the distance due to the scale ambiguity. To show that it is possible to overcome the scale ambiguity we now check how many knows and unknown we have. We have 4 knows for each correspondence. This is bacause we have $u$ and $v$ for both images. Therefore we have $4n$ knowns.\n",
    "As axplained before w have 5 unknowns for the motion (3 for rotation, 2 for translation) Additionally we have 3 unknowns for each of the correspondences due to the unknown 3D position of their point. To be able to solve such a system we have to have more knowns that unknowns. Therefor the following raltaion must hold: $4n \\geq 5+3n$. This hols for $n \\geq 5$\n"
   ]
  },
  {
   "cell_type": "markdown",
   "metadata": {},
   "source": [
    "## Epopolar Geometry\n",
    "\n",
    "In this section we want to show that and how it is possible to estimate the relative motion independently fromt he 3D structure.\n",
    "\n",
    "In Chapter 8 we have introduces the notion of epipolar lines and planes. As a reminder the epipolar plane is the plane which si span by the camera centers as well as the 3D-point. There line in which this planes intercepts the camera plane is the epipolar line. The only positions on the image plane where the image of tha 3D-point can is are along that line.\n",
    "\n",
    "From the defintion of the epipolar plane we know that the vector from the camera centers to the image of a point on the image plane are coplanar with the vector connecting both camera centers. this leads to the concliustion that the dot-product of the camera-image vector and the normal vector on the epipolar plane is 0. Since we can express the normal vector as the cross product of the line connecting both amera centers (T) and the image etor if the opposing camera we can craate the following formula:\n",
    "\n",
    "\\begin{align*}\n",
    "p_1 \\cdot n = 0 \\implies p_1 \\cdot (T \\times p_2') = 0 \\implies p_1 \\cdot (T \\times Rp_2)\n",
    "\\implies p_1 {[T]}_\\times R p_2\n",
    "\\end{align*}\n",
    "\n",
    "where $p_1'$ is the vator $p_1$ expressed in the coordinates of Camera 2 ($C_2$) and vis versa. We can express ${[T]}_\\times R$ ans $E$ whichw e call **essentail matrix**\n",
    "\n",
    "\\begin{align*}\n",
    "\\implies p_1 E p_2 = 0\n",
    "\\end{align*}\n",
    "\n",
    "This equation is called **Epipolar Constraint** or **Longuet_higgins equation**.\n",
    "\n",
    "When decomposing E into ${[T]}_\\times$ and $R$ has four distinct solutions.\n",
    "\n",
    "![Epipolar Constraint](https://github.com/joelbarmettlerUZH/PyVisualOdometry/raw/master/img/chapter_9/2_epipolar_constraint.png)\n",
    "*Figure 2: Epipolar Constraint. [source](http://rpg.ifi.uzh.ch/docs/teaching/2019/08_multiple_view_geometry_2.pdf)*\n"
   ]
  },
  {
   "cell_type": "markdown",
   "metadata": {},
   "source": [
    "As a short illustration we now look at the case where we have two rectified stereo images. As we have seen in Chapter 4 there is no rotation between rectified images. Therefore we can set $R$ and s 3x3 identity matrix. As a result the essentail matrix only depends on the translation.\n",
    "\n",
    "![Recified Case](https://github.com/joelbarmettlerUZH/PyVisualOdometry/raw/master/img/chapter_9/3_rectified_case.png)\n",
    "*Figure 3: Recified Case. [source](http://rpg.ifi.uzh.ch/docs/teaching/2019/08_multiple_view_geometry_2.pdf)*\n"
   ]
  },
  {
   "cell_type": "markdown",
   "metadata": {},
   "source": [
    "So how many point-corresponedences do we need to be able to calculate the essential matrix. This is a question that many reasearchers have looked into. Kruppa shoed in 1913 that at least 5 points are needed and that in that case there can be up to 11 solutions. In 1988 Demazure showed that actually the are at most 10 distinct solutions. In 2004 Philipp proposed an iterative algorithm for solving this problem. And in 2004 the first non iterative and efficient algorithm was developed by Nister based on the groebner basis decomposistion. However the first popular solution method uses 8 points to get a unique solution and is popular due to its relative easy implementation. This algorithm is called 8-point algorithm or Longuet-Higgins algorithm."
   ]
  },
  {
   "cell_type": "markdown",
   "metadata": {},
   "source": [
    "## The 8-point Algorithm\n",
    "\n",
    "As seen befor the matrix $E$ is a 3x3 matrix. When applying the epipolar constraint to a pair of correspondence we get the following equation baes on the elements of matrix e.\n",
    "\n",
    "\\begin{align*}\n",
    "u_2u_1e_{11} + u_2v_1e_{12} + u_2e_{13} + v_2u_1e_{21} + v_2v_1e_{22} v_2e_{23} + u_1e_{31} + v_1e_{32} + e_{33} = 0\n",
    "\\end{align*}\n",
    "\n",
    "![Essentail Matrix](https://github.com/joelbarmettlerUZH/PyVisualOdometry/raw/master/img/chapter_9/4_essentail_matrix.png)\n",
    "*Figure 4: Essentail Matrix. [source](http://rpg.ifi.uzh.ch/docs/teaching/2019/08_multiple_view_geometry_2.pdf)*\n",
    "\n",
    "For many points we can repeat that and get the following structure:\n",
    "\n",
    "![Q and E](https://github.com/joelbarmettlerUZH/PyVisualOdometry/raw/master/img/chapter_9/5_Q_and_E.png)\n",
    "*Figure 5: Q and E. [source](http://rpg.ifi.uzh.ch/docs/teaching/2019/08_multiple_view_geometry_2.pdf)*\n",
    "\n",
    "The matrix Q has the dimensions $n \\times 9$ and therefore should have rank 8 to have a unique solution which is non trivial.\n",
    "We see that each point correspondence provides 1 independent equation and therefore we need 8 point correspondences.\n",
    "When we have more than 8 points then a solution is to minimize ${\\lVert Q E \\rVert}^2$ which also fulfills the constraint ${\\lVert E \\rVert}^2 = 1$. We can take the eigenvactor corresponding to the smalles eigenvalue of the matrix $Q^TQ$ as  the solutiion because is is the unit vector x the minimizes ${\\lVert Qx \\rVert}^2 = x^TQ^TQx$. In practice we can solve this easily using the Singular Value Decomposition (SVD).\n",
    "There are some configuration in which the 8-point algorith is degenerate. This is when the 3D points are coplanar. In this case however the 5-point algorithm still works.\n",
    "\n",
    "\n",
    "\n"
   ]
  },
  {
   "cell_type": "markdown",
   "metadata": {},
   "source": [
    "#### Interpretation\n",
    "\n",
    "Now we give more insights into how the 8-point algorithm works and give some interpretation. As mentioned before the goal is to find a solution that fulfulls the condition that ${p_2}^TE{p_1}^t = 0$. With multiple points we can also express this forumation as minimizing the error (deviation) from that solution. Thus:\n",
    "\n",
    "\\begin{align*}\n",
    "\\sum_{n=1}^{N} ({p_2}^TE{p_1})^2\n",
    "\\end{align*}\n",
    "\n",
    "Andthis expression can be written using the definition of the dot ptoduct.\n",
    "\n",
    "\\begin{align*}\n",
    "{p_2}^T \\cdot E p_1 = \\lVert p_2 \\rVert \\lVert E p_1 \\rVert cos(\\theta)\n",
    "\\end{align*}\n",
    "\n",
    "We see that this product depends on the angle between image vector $p_1$ and the normal of the to the epipolarplane. It is non zero when $p_1$, $p_2$ and $T$ are not coplanar. Or it is zero when they are coplanar supporting the definition of the epipolar plane. See Figure 2.\n",
    "\n",
    "(The following wont be asked...)\n",
    "\n",
    "When we have the messential matrix $E$ we can decompose it into the rotation $R$ and translation $t$. For this we can use the SVD ad explained before.\n",
    "\n",
    "\\begin{align*}\n",
    "E = U S V^T\n",
    "\\end{align*}\n",
    "\n",
    "$S$ is a 3x3 diagonal matrix with the eigenvalues as diagonal elements. Due to the constraint that for solvability it hast to have rank 2 we can set the smalles eigenvalue to 0. \n",
    "\n",
    "\\begin{align*}\n",
    "S = \\begin{bmatrix}\n",
    "\\sigma_1 & 0 & 0\\\\\n",
    "0 & \\sigma_2 & 0\\\\\n",
    "0 & 0 & 0\n",
    "\\end{bmatrix}\n",
    "\\end{align*}\n",
    "\n",
    "\\begin{align*}\n",
    "\\hat{T} = U \\begin{bmatrix}\n",
    "0 & \\mp 1 & 0\\\\\n",
    "\\pm 1 & 0 & 0\\\\\n",
    "0 & 0 & 0\n",
    "\\end{bmatrix}S V^T\n",
    "\\end{align*}\n",
    "\n",
    "\\begin{align*}\n",
    "\\hat{R} = U \\begin{bmatrix}\n",
    "0 & \\mp 1 & 0\\\\\n",
    "\\pm 1 & 0 & 0\\\\\n",
    "0 & 0 & 0\n",
    "\\end{bmatrix}S V^T\n",
    "\\end{align*}\n",
    "\n",
    "take note of the plus-minus and minus-plus order. We can turn the translation matrix into a single translation vector.\n",
    "\n",
    "\\begin{align*}\n",
    "\\hat{T} = \\begin{bmatrix}\n",
    "0 & -t_z & t_y\\\\\n",
    "t_z & 0 & t_x\\\\\n",
    "-t_y & t_x & 0\n",
    "\\end{bmatrix} \\implies\n",
    "\\hat{t} = \\begin{bmatrix}\n",
    "t_x & t_y & t_z\n",
    "\\end{bmatrix}\n",
    "\\end{align*}\n",
    "\n",
    "In the end we have to apply the camera intrinsics to get exact results.\n",
    "\n",
    "\\begin{align*}\n",
    "t &= K_2\\hat{t}\\\\\n",
    "R &= K_2\\hat{R}{K_1}^{-1}\n",
    "\\end{align*}\n",
    "\n",
    "We see from the mathematical notation that there are 4 possilbe solution, but onyl one of them has the points in front of both cameras.\n",
    "\n",
    "![Four Solutions](https://github.com/joelbarmettlerUZH/PyVisualOdometry/raw/master/img/chapter_9/6_four_solutions.png)\n",
    "*Figure 6: Four Solutions [source](http://rpg.ifi.uzh.ch/docs/teaching/2019/08_multiple_view_geometry_2.pdf)*\n"
   ]
  },
  {
   "cell_type": "code",
   "execution_count": null,
   "metadata": {},
   "outputs": [],
   "source": []
  }
 ],
 "metadata": {
  "kernelspec": {
   "display_name": "Python 2",
   "language": "python",
   "name": "python2"
  },
  "language_info": {
   "codemirror_mode": {
    "name": "ipython",
    "version": 2
   },
   "file_extension": ".py",
   "mimetype": "text/x-python",
   "name": "python",
   "nbconvert_exporter": "python",
   "pygments_lexer": "ipython2",
   "version": "2.7.15"
  }
 },
 "nbformat": 4,
 "nbformat_minor": 2
}
